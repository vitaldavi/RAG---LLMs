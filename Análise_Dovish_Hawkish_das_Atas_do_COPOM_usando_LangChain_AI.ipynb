{
  "nbformat": 4,
  "nbformat_minor": 0,
  "metadata": {
    "colab": {
      "provenance": [],
      "include_colab_link": true
    },
    "kernelspec": {
      "name": "python3",
      "display_name": "Python 3"
    },
    "language_info": {
      "name": "python"
    }
  },
  "cells": [
    {
      "cell_type": "markdown",
      "metadata": {
        "id": "view-in-github",
        "colab_type": "text"
      },
      "source": [
        "<a href=\"https://colab.research.google.com/github/vitaldavi/RAG-LLMs/blob/main/An%C3%A1lise_Dovish_Hawkish_das_Atas_do_COPOM_usando_LangChain_AI.ipynb\" target=\"_parent\"><img src=\"https://colab.research.google.com/assets/colab-badge.svg\" alt=\"Open In Colab\"/></a>"
      ]
    },
    {
      "cell_type": "code",
      "source": [
        "# Instalar bibliotecas\n",
        "!pip install langchain_community langchain-google-genai langchain pypdf"
      ],
      "metadata": {
        "colab": {
          "base_uri": "https://localhost:8080/",
          "height": 1000
        },
        "id": "GwfksNGIu9ee",
        "outputId": "8828d721-cb8e-44e9-beca-2ae8eddfbd9f"
      },
      "execution_count": null,
      "outputs": [
        {
          "output_type": "stream",
          "name": "stdout",
          "text": [
            "Collecting langchain_community\n",
            "  Downloading langchain_community-0.0.28-py3-none-any.whl (1.8 MB)\n",
            "\u001b[2K     \u001b[90m━━━━━━━━━━━━━━━━━━━━━━━━━━━━━━━━━━━━━━━━\u001b[0m \u001b[32m1.8/1.8 MB\u001b[0m \u001b[31m2.4 MB/s\u001b[0m eta \u001b[36m0:00:00\u001b[0m\n",
            "\u001b[?25hCollecting langchain-google-genai\n",
            "  Downloading langchain_google_genai-0.0.11-py3-none-any.whl (28 kB)\n",
            "Collecting langchain\n",
            "  Downloading langchain-0.1.12-py3-none-any.whl (809 kB)\n",
            "\u001b[2K     \u001b[90m━━━━━━━━━━━━━━━━━━━━━━━━━━━━━━━━━━━━━━━━\u001b[0m \u001b[32m809.1/809.1 kB\u001b[0m \u001b[31m2.5 MB/s\u001b[0m eta \u001b[36m0:00:00\u001b[0m\n",
            "\u001b[?25hCollecting pypdf\n",
            "  Downloading pypdf-4.1.0-py3-none-any.whl (286 kB)\n",
            "\u001b[2K     \u001b[90m━━━━━━━━━━━━━━━━━━━━━━━━━━━━━━━━━━━━━━━━\u001b[0m \u001b[32m286.1/286.1 kB\u001b[0m \u001b[31m1.8 MB/s\u001b[0m eta \u001b[36m0:00:00\u001b[0m\n",
            "\u001b[?25hRequirement already satisfied: PyYAML>=5.3 in /usr/local/lib/python3.10/dist-packages (from langchain_community) (6.0.1)\n",
            "Requirement already satisfied: SQLAlchemy<3,>=1.4 in /usr/local/lib/python3.10/dist-packages (from langchain_community) (2.0.28)\n",
            "Requirement already satisfied: aiohttp<4.0.0,>=3.8.3 in /usr/local/lib/python3.10/dist-packages (from langchain_community) (3.9.3)\n",
            "Collecting dataclasses-json<0.7,>=0.5.7 (from langchain_community)\n",
            "  Downloading dataclasses_json-0.6.4-py3-none-any.whl (28 kB)\n",
            "Collecting langchain-core<0.2.0,>=0.1.31 (from langchain_community)\n",
            "  Downloading langchain_core-0.1.32-py3-none-any.whl (260 kB)\n",
            "\u001b[2K     \u001b[90m━━━━━━━━━━━━━━━━━━━━━━━━━━━━━━━━━━━━━━━━\u001b[0m \u001b[32m260.9/260.9 kB\u001b[0m \u001b[31m1.1 MB/s\u001b[0m eta \u001b[36m0:00:00\u001b[0m\n",
            "\u001b[?25hCollecting langsmith<0.2.0,>=0.1.0 (from langchain_community)\n",
            "  Downloading langsmith-0.1.29-py3-none-any.whl (70 kB)\n",
            "\u001b[2K     \u001b[90m━━━━━━━━━━━━━━━━━━━━━━━━━━━━━━━━━━━━━━━━\u001b[0m \u001b[32m70.9/70.9 kB\u001b[0m \u001b[31m1.2 MB/s\u001b[0m eta \u001b[36m0:00:00\u001b[0m\n",
            "\u001b[?25hRequirement already satisfied: numpy<2,>=1 in /usr/local/lib/python3.10/dist-packages (from langchain_community) (1.25.2)\n",
            "Requirement already satisfied: requests<3,>=2 in /usr/local/lib/python3.10/dist-packages (from langchain_community) (2.31.0)\n",
            "Requirement already satisfied: tenacity<9.0.0,>=8.1.0 in /usr/local/lib/python3.10/dist-packages (from langchain_community) (8.2.3)\n",
            "Collecting google-generativeai<0.5.0,>=0.4.1 (from langchain-google-genai)\n",
            "  Downloading google_generativeai-0.4.1-py3-none-any.whl (137 kB)\n",
            "\u001b[2K     \u001b[90m━━━━━━━━━━━━━━━━━━━━━━━━━━━━━━━━━━━━━━━━\u001b[0m \u001b[32m137.4/137.4 kB\u001b[0m \u001b[31m1.2 MB/s\u001b[0m eta \u001b[36m0:00:00\u001b[0m\n",
            "\u001b[?25hRequirement already satisfied: async-timeout<5.0.0,>=4.0.0 in /usr/local/lib/python3.10/dist-packages (from langchain) (4.0.3)\n",
            "Collecting jsonpatch<2.0,>=1.33 (from langchain)\n",
            "  Downloading jsonpatch-1.33-py2.py3-none-any.whl (12 kB)\n",
            "Collecting langchain-text-splitters<0.1,>=0.0.1 (from langchain)\n",
            "  Downloading langchain_text_splitters-0.0.1-py3-none-any.whl (21 kB)\n",
            "Requirement already satisfied: pydantic<3,>=1 in /usr/local/lib/python3.10/dist-packages (from langchain) (2.6.4)\n",
            "Requirement already satisfied: aiosignal>=1.1.2 in /usr/local/lib/python3.10/dist-packages (from aiohttp<4.0.0,>=3.8.3->langchain_community) (1.3.1)\n",
            "Requirement already satisfied: attrs>=17.3.0 in /usr/local/lib/python3.10/dist-packages (from aiohttp<4.0.0,>=3.8.3->langchain_community) (23.2.0)\n",
            "Requirement already satisfied: frozenlist>=1.1.1 in /usr/local/lib/python3.10/dist-packages (from aiohttp<4.0.0,>=3.8.3->langchain_community) (1.4.1)\n",
            "Requirement already satisfied: multidict<7.0,>=4.5 in /usr/local/lib/python3.10/dist-packages (from aiohttp<4.0.0,>=3.8.3->langchain_community) (6.0.5)\n",
            "Requirement already satisfied: yarl<2.0,>=1.0 in /usr/local/lib/python3.10/dist-packages (from aiohttp<4.0.0,>=3.8.3->langchain_community) (1.9.4)\n",
            "Collecting marshmallow<4.0.0,>=3.18.0 (from dataclasses-json<0.7,>=0.5.7->langchain_community)\n",
            "  Downloading marshmallow-3.21.1-py3-none-any.whl (49 kB)\n",
            "\u001b[2K     \u001b[90m━━━━━━━━━━━━━━━━━━━━━━━━━━━━━━━━━━━━━━━━\u001b[0m \u001b[32m49.4/49.4 kB\u001b[0m \u001b[31m998.4 kB/s\u001b[0m eta \u001b[36m0:00:00\u001b[0m\n",
            "\u001b[?25hCollecting typing-inspect<1,>=0.4.0 (from dataclasses-json<0.7,>=0.5.7->langchain_community)\n",
            "  Downloading typing_inspect-0.9.0-py3-none-any.whl (8.8 kB)\n",
            "Requirement already satisfied: google-ai-generativelanguage==0.4.0 in /usr/local/lib/python3.10/dist-packages (from google-generativeai<0.5.0,>=0.4.1->langchain-google-genai) (0.4.0)\n",
            "Requirement already satisfied: google-auth>=2.15.0 in /usr/local/lib/python3.10/dist-packages (from google-generativeai<0.5.0,>=0.4.1->langchain-google-genai) (2.27.0)\n",
            "Requirement already satisfied: google-api-core in /usr/local/lib/python3.10/dist-packages (from google-generativeai<0.5.0,>=0.4.1->langchain-google-genai) (2.11.1)\n",
            "Requirement already satisfied: protobuf in /usr/local/lib/python3.10/dist-packages (from google-generativeai<0.5.0,>=0.4.1->langchain-google-genai) (3.20.3)\n",
            "Requirement already satisfied: tqdm in /usr/local/lib/python3.10/dist-packages (from google-generativeai<0.5.0,>=0.4.1->langchain-google-genai) (4.66.2)\n",
            "Requirement already satisfied: typing-extensions in /usr/local/lib/python3.10/dist-packages (from google-generativeai<0.5.0,>=0.4.1->langchain-google-genai) (4.10.0)\n",
            "Requirement already satisfied: proto-plus<2.0.0dev,>=1.22.3 in /usr/local/lib/python3.10/dist-packages (from google-ai-generativelanguage==0.4.0->google-generativeai<0.5.0,>=0.4.1->langchain-google-genai) (1.23.0)\n",
            "Collecting jsonpointer>=1.9 (from jsonpatch<2.0,>=1.33->langchain)\n",
            "  Downloading jsonpointer-2.4-py2.py3-none-any.whl (7.8 kB)\n",
            "Requirement already satisfied: anyio<5,>=3 in /usr/local/lib/python3.10/dist-packages (from langchain-core<0.2.0,>=0.1.31->langchain_community) (3.7.1)\n",
            "Collecting packaging<24.0,>=23.2 (from langchain-core<0.2.0,>=0.1.31->langchain_community)\n",
            "  Downloading packaging-23.2-py3-none-any.whl (53 kB)\n",
            "\u001b[2K     \u001b[90m━━━━━━━━━━━━━━━━━━━━━━━━━━━━━━━━━━━━━━━━\u001b[0m \u001b[32m53.0/53.0 kB\u001b[0m \u001b[31m1.0 MB/s\u001b[0m eta \u001b[36m0:00:00\u001b[0m\n",
            "\u001b[?25hCollecting orjson<4.0.0,>=3.9.14 (from langsmith<0.2.0,>=0.1.0->langchain_community)\n",
            "  Downloading orjson-3.9.15-cp310-cp310-manylinux_2_17_x86_64.manylinux2014_x86_64.whl (138 kB)\n",
            "\u001b[2K     \u001b[90m━━━━━━━━━━━━━━━━━━━━━━━━━━━━━━━━━━━━━━━━\u001b[0m \u001b[32m138.5/138.5 kB\u001b[0m \u001b[31m1.3 MB/s\u001b[0m eta \u001b[36m0:00:00\u001b[0m\n",
            "\u001b[?25hRequirement already satisfied: annotated-types>=0.4.0 in /usr/local/lib/python3.10/dist-packages (from pydantic<3,>=1->langchain) (0.6.0)\n",
            "Requirement already satisfied: pydantic-core==2.16.3 in /usr/local/lib/python3.10/dist-packages (from pydantic<3,>=1->langchain) (2.16.3)\n",
            "Requirement already satisfied: charset-normalizer<4,>=2 in /usr/local/lib/python3.10/dist-packages (from requests<3,>=2->langchain_community) (3.3.2)\n",
            "Requirement already satisfied: idna<4,>=2.5 in /usr/local/lib/python3.10/dist-packages (from requests<3,>=2->langchain_community) (3.6)\n",
            "Requirement already satisfied: urllib3<3,>=1.21.1 in /usr/local/lib/python3.10/dist-packages (from requests<3,>=2->langchain_community) (2.0.7)\n",
            "Requirement already satisfied: certifi>=2017.4.17 in /usr/local/lib/python3.10/dist-packages (from requests<3,>=2->langchain_community) (2024.2.2)\n",
            "Requirement already satisfied: greenlet!=0.4.17 in /usr/local/lib/python3.10/dist-packages (from SQLAlchemy<3,>=1.4->langchain_community) (3.0.3)\n",
            "Requirement already satisfied: sniffio>=1.1 in /usr/local/lib/python3.10/dist-packages (from anyio<5,>=3->langchain-core<0.2.0,>=0.1.31->langchain_community) (1.3.1)\n",
            "Requirement already satisfied: exceptiongroup in /usr/local/lib/python3.10/dist-packages (from anyio<5,>=3->langchain-core<0.2.0,>=0.1.31->langchain_community) (1.2.0)\n",
            "Requirement already satisfied: cachetools<6.0,>=2.0.0 in /usr/local/lib/python3.10/dist-packages (from google-auth>=2.15.0->google-generativeai<0.5.0,>=0.4.1->langchain-google-genai) (5.3.3)\n",
            "Requirement already satisfied: pyasn1-modules>=0.2.1 in /usr/local/lib/python3.10/dist-packages (from google-auth>=2.15.0->google-generativeai<0.5.0,>=0.4.1->langchain-google-genai) (0.3.0)\n",
            "Requirement already satisfied: rsa<5,>=3.1.4 in /usr/local/lib/python3.10/dist-packages (from google-auth>=2.15.0->google-generativeai<0.5.0,>=0.4.1->langchain-google-genai) (4.9)\n",
            "Collecting mypy-extensions>=0.3.0 (from typing-inspect<1,>=0.4.0->dataclasses-json<0.7,>=0.5.7->langchain_community)\n",
            "  Downloading mypy_extensions-1.0.0-py3-none-any.whl (4.7 kB)\n",
            "Requirement already satisfied: googleapis-common-protos<2.0.dev0,>=1.56.2 in /usr/local/lib/python3.10/dist-packages (from google-api-core->google-generativeai<0.5.0,>=0.4.1->langchain-google-genai) (1.63.0)\n",
            "Requirement already satisfied: grpcio<2.0dev,>=1.33.2 in /usr/local/lib/python3.10/dist-packages (from google-api-core->google-generativeai<0.5.0,>=0.4.1->langchain-google-genai) (1.62.1)\n",
            "Requirement already satisfied: grpcio-status<2.0.dev0,>=1.33.2 in /usr/local/lib/python3.10/dist-packages (from google-api-core->google-generativeai<0.5.0,>=0.4.1->langchain-google-genai) (1.48.2)\n",
            "Requirement already satisfied: pyasn1<0.6.0,>=0.4.6 in /usr/local/lib/python3.10/dist-packages (from pyasn1-modules>=0.2.1->google-auth>=2.15.0->google-generativeai<0.5.0,>=0.4.1->langchain-google-genai) (0.5.1)\n",
            "Installing collected packages: pypdf, packaging, orjson, mypy-extensions, jsonpointer, typing-inspect, marshmallow, jsonpatch, langsmith, dataclasses-json, langchain-core, langchain-text-splitters, langchain_community, langchain, google-generativeai, langchain-google-genai\n",
            "  Attempting uninstall: packaging\n",
            "    Found existing installation: packaging 24.0\n",
            "    Uninstalling packaging-24.0:\n",
            "      Successfully uninstalled packaging-24.0\n",
            "  Attempting uninstall: google-generativeai\n",
            "    Found existing installation: google-generativeai 0.3.2\n",
            "    Uninstalling google-generativeai-0.3.2:\n",
            "      Successfully uninstalled google-generativeai-0.3.2\n",
            "Successfully installed dataclasses-json-0.6.4 google-generativeai-0.4.1 jsonpatch-1.33 jsonpointer-2.4 langchain-0.1.12 langchain-core-0.1.32 langchain-google-genai-0.0.11 langchain-text-splitters-0.0.1 langchain_community-0.0.28 langsmith-0.1.29 marshmallow-3.21.1 mypy-extensions-1.0.0 orjson-3.9.15 packaging-23.2 pypdf-4.1.0 typing-inspect-0.9.0\n"
          ]
        },
        {
          "output_type": "display_data",
          "data": {
            "application/vnd.colab-display-data+json": {
              "pip_warning": {
                "packages": [
                  "google"
                ]
              },
              "id": "294d482839ed46059b8b7853d731aaa3"
            }
          },
          "metadata": {}
        }
      ]
    },
    {
      "cell_type": "code",
      "execution_count": null,
      "metadata": {
        "id": "4qEOy0d5u46d"
      },
      "outputs": [],
      "source": [
        "# Bibliotecas ----\n",
        "from langchain_community.document_loaders import PyPDFLoader\n",
        "from langchain_google_genai import ChatGoogleGenerativeAI\n",
        "from langchain.prompts import PromptTemplate\n",
        "from langchain.schema.prompt_template import format_document\n",
        "from langchain.schema import StrOutputParser\n",
        "import os"
      ]
    },
    {
      "cell_type": "code",
      "source": [
        "# Autenticação na API do Google\n",
        "os.environ[\"GOOGLE_API_KEY\"] = \"xxxxxxx\" # COLOQUE AQUI SUA CHAVE"
      ],
      "metadata": {
        "id": "gK5IAvrHvRa-"
      },
      "execution_count": null,
      "outputs": []
    },
    {
      "cell_type": "code",
      "source": [
        "# Coleta de dados ----\n",
        "pdf = PyPDFLoader(\"https://www.bcb.gov.br/content/copom/atascopom/Copom260-not20240131260.pdf\")\n",
        "ata = pdf.load_and_split()\n",
        "ata"
      ],
      "metadata": {
        "colab": {
          "base_uri": "https://localhost:8080/"
        },
        "id": "J_5iEOk0vfH_",
        "outputId": "1891c393-b2d5-4793-ea61-4d44f2ac7fd6"
      },
      "execution_count": null,
      "outputs": [
        {
          "output_type": "execute_result",
          "data": {
            "text/plain": [
              "[Document(page_content='1    bcb.gov.br  \\n \\n  \\n \\n \\n \\n  \\n \\n  \\n \\n \\n \\n \\n  \\n \\n  \\n \\n \\n \\n \\n \\n \\n \\n \\n \\n \\n \\n \\n \\n \\n \\n \\n \\nAta da Reunião do  \\nComitê de Política Monetária  — Copom  \\n30 e 31 de janei ro de 202 4 260ª', metadata={'source': 'https://www.bcb.gov.br/content/copom/atascopom/Copom260-not20240131260.pdf', 'page': 0}),\n",
              " Document(page_content='260ª Reunião  \\nCOPOM  \\n30 e 31 de janeiro  \\n  \\n2    bcb.gov.br   \\nOs membros do Copom analisaram a evolução recente e as perspectivas para a economia brasileira \\ne para a economia internacional, no context o do regime de política monetária, cujo objetivo é \\natingir as metas fixadas pelo Conselho Monetário Nacional para a inflação.    \\nData:  \\n30 e 31  de janeiro  de 2024 \\n  \\nLocal:  Sala s de reuniões do 8º andar (30/1  e 31/1 – manhã) e do 20º andar ( 31/1  – tarde ) do \\nEdifício -sede do Banco Central do Brasil – Brasília – DF \\n  \\nHorários de início  \\ne término : 30 de janei ro: 10h06 – 12h26; 14h 12 – 18h33 \\n31 de janei ro: 10h07  – 11h43 ; 14h31 – 18h34 \\n  \\nPresentes :  \\nMembros do Copom   Roberto de Oliveira Campos Neto – Presidente  \\nAilton de Aquino Santos  \\nCarolina de Assis Barros  \\nDiogo Abry Guillen  \\nGabriel Muricca Galípolo  \\nOtávio Ribeiro Damaso  \\nPaulo Picchetti  \\nRenato Dias de Brito Gomes  \\nRodrigo Alves Teixeira  \\nChefes de \\nDepartamento \\nresponsáveis por \\napresentações técnicas  \\n(presentes em 30/1  e na \\nmanhã de 31/1):  Alan da Silva Andrade Mendes – Depart amento de Reservas  Internacionais  \\nAndré Minella  – Depart ament o de Estudos e Pesquisas (também presente na tarde de  31/1) \\nAndré de Oliveira Amante – Departa mento de Operações de Mercado Aberto  \\nMarcelo Ant onio Thomaz de Arag ão – Dep . de Assuntos Internacionais  (presente em 30/1)  \\nRicardo Sabbadini – Departamento Econômico  \\nRogério Antônio Lucca – Dep . de Operações Bancárias e de Sistema de Pagamentos  \\n \\nDemais participantes  \\n(presentes em 30/1  e na \\nmanhã de 31/1):  André Luiz Caccavo Miguel  – Chefe Adjunto do Dep. de Monitoramento do Sistema Financeiro  \\nArnildo da Silva Correa – Chefe da Assessoria Econômica ao Pr esidente  \\nCristiano de Oliveira Lopes Cozer  – Procurador -Geral  \\nEdson Broxado de França Teixeira – Chefe de Gabinete do Diretor de Fiscalização  \\nEduardo José Araújo Lima  – Chefe d e Gabinete do Diretor de Política Econômica  \\nEuler Pereira Gonçalves de Mello  – Chefe Adjunto do Departamento de Estudos e Pesquisas  \\nFernando Alberto G. Sampaio de Cavalcante Rocha  – Chefe d o Departamento de Estatísticas  \\nGilneu Francisco Astolfi Vivan – Chefe do Dep. de Monitoramento do Sistema Financeiro  \\nGustavo Andrade Barbosa de Souza  – Chefe Adjunto do Dep. de Operações de Mercado Aberto  \\nIsabela Ribeiro Damaso Maia  – Chefe da  Gerência de Sustentabilidade e de Relacionamento com \\nInvestidores Internacionais de Portfólio  \\nJulio Cesar Costa Pinto – Chefe de Gabinete do Diretor de Política Monetária  \\nLaura Soledad Cutruffo Comparini  – Chefe Adjunt a do Departame nto Econômico  \\nLeonardo Martins Nogueira – Secretário Executivo  \\n Luís Guilherme Siciliano Pontes  – Chefe Adjunto do Departamento de Reservas Internacionais \\n(presente em 30/1)  \\n Mariane Santiago de Souza – Chefe de Gabinete do Presidente  \\n Mauro Zanatta – Assessor de Imprensa  \\n Olavo Lins Romano Pereira – Chefe Adjunto  do Departamento de Assuntos Internacionais  \\n Renata Modesto Barreto  – Chefe Adjunt a do Dep. de Oper . Bancárias e de Sistema de Pagamentos  \\n Ricardo Eyer Harris  – Chefe de Gabinete do Di retor de Regulação  \\n Ricardo Franco Moura  – Chefe d o Departamento de Regulação Prudencial e Cambial', metadata={'source': 'https://www.bcb.gov.br/content/copom/atascopom/Copom260-not20240131260.pdf', 'page': 1}),\n",
              " Document(page_content='260ª Reunião  \\nCOPOM  \\n30 e 31 de janeiro  \\n  \\n3    bcb.gov.br  A) Atualização da conjuntura econômica e do cenário do Copom1 \\n1. O ambiente externo segue volátil , marcado pelo  debate sobre o início do processo \\nde flexibilização da política monetária nas principais economias e por sinais de queda de \\nnúcleos de inflação , que ainda permanecem em níveis elevados em diversos países.   \\n2. Os bancos centrais das principais economias permanecem determinados em \\npromover a convergência das taxas de inflação para suas metas em um ambiente \\nmarcado por pressões nos mercados de trabalho. O Comitê avalia que o cenário segue \\nexigindo  cautela por parte de países emergentes.  \\n3. No âmbito doméstico, o conjunto de indicadores recentes  de atividade econômica \\nsegue consistente com o cenário de desaceleração da economia esperado pelo Comitê. \\nObserva -se moderação no  crescimento  econômico, mas com resiliência no consumo das \\nfamílias. Por fim, o mercado de trabalho segue aquecido  e com aceleração nos \\nrendimentos reais,  embora o mercado tenha apresentado alguma moderação na \\nmargem.  \\n4. A inflação ao consumidor segue a trajetória esperada  de desinflação . Os indicadores \\nque agregam os componentes mais sensíveis ao ciclo econômico e à política monetária \\nestão mais próximos  da meta para a inflação nas divulgações mais recentes . As \\nexpectativas de inflação para 2024 e 2025 apuradas pela pesquisa Focus  encontram -se \\nem torno de 3,8% e 3,5% , respectivamente.  \\n \\nB) Cenários e análise de riscos  \\n5. No cenário de referência, a trajetória para a taxa de juros é extraída da pesquisa Focus \\ne a taxa de câmbio parte de USD/BRL 4,952, evoluindo segundo a paridade do poder de \\ncompra (PPC). O  preço do petróleo segue aproximadamente a curva futura pelos \\npróximos seis meses e passa a aumentar 2% ao ano posteriormente. Além disso, adota -\\nse a hipótese de bandeira tarifária “verde ” em dezembro de 2024 e de 2025. Nesse \\ncenário, as projeções de inflação do Copom situam -se em  3,5% para 2024 e 3,2 % para \\n2025. As projeções para a inflação de preços administrados são de 4 ,2% para 2024 e \\n3,8% para 2025.  \\n6. O Comitê avalia que a conjuntura internacional segue volátil, marcad a por renovadas \\ntensões geopolíticas e pelo debate sobre o início do processo de flexibilização da \\npolítica monetária nas principais economias. O Comitê relembra  que não há relação \\nmecânica entre a condução da política monetária norte -americana e a determinação da \\ntaxa básica de juros doméstica  e que, como usual , o Comitê focará nos  mecanismos de \\ntransmissão da conjuntura externa sobre a dinâmica inflacionária interna. Ainda sobre \\no ambiente global, após reconhecer uma melhora no quadro inflacionário corrente, o \\nComitê se deteve sobre as fontes, desafios e incertezas para o processo desinflacionário \\nfuturo.  A reversão de choques de oferta, a  inflaç ão ao produtor bem -comportada  na \\nChina e nos Estados Unidos e a dinâmica recente de preços de commodities permitem \\nextrapolar um cenário benigno para a inflação de bens. No entanto , permanece grande \\nincerteza sobre a demanda global futura e qual a extensão d o movimento residual de \\npreços relativos entre bens e serviços que ainda poderia ocorrer . Mais recentemente,  \\nas tensões geopolític as e a consequente elevação dos preços de fretes adicionaram \\nincerteza  ao cenário prospectivo . Além disso, a própria dinâmica de crescimento \\neconômico e do mercado de trabalho serão importantes para determinar a velocidade \\nda desinflação de serviços. Tais elementos alimentam o debate sobre a natureza das \\npressões inflacionarias e potencialmente sobre o ritmo de distensão monetária a ser \\n \\n1 A menos de menção explícita em contrário, esta atualização leva em conta as mudanças ocorridas desde a \\nreunião do Copom em dezem bro (259ª reunião).  \\n2 Valor foi obtido pelo procedimento , que passou a ser adotado na 258ª reunião, de arredondar a cotação', metadata={'source': 'https://www.bcb.gov.br/content/copom/atascopom/Copom260-not20240131260.pdf', 'page': 2}),\n",
              " Document(page_content='reunião do Copom em dezem bro (259ª reunião).  \\n2 Valor foi obtido pelo procedimento , que passou a ser adotado na 258ª reunião, de arredondar a cotação \\nmédia da taxa de câmbio USD/BRL observada nos dez dias úteis encerrados no último dia da semana anterior \\nà da reunião do Copom .', metadata={'source': 'https://www.bcb.gov.br/content/copom/atascopom/Copom260-not20240131260.pdf', 'page': 2}),\n",
              " Document(page_content='260ª Reunião  \\nCOPOM  \\n30 e 31 de janeiro  \\n  \\n4    bcb.gov.br  adotado pelas  economias avançadas. Nesse contexto , e diante da volatilidade recente \\ne da incerteza à frente no cenário internacional,  o Comitê manteve a avaliação de que é \\napropriado adotar uma postura de cautela, principalmente em países emergentes. \\nAlém disso, o Comitê  continuará acompanhando os diversos dados da economia global \\ne seus respectivos canais de transmissão  para a economia doméstica.  \\n7. No que se refere à atividade econômica doméstica , prossegue o cenário de  \\ndesaceleração da atividade antecipado pelo Comitê. No entanto, na discussão, \\napresentaram -se elementos que permitiriam  observar, nos próximos meses,  uma \\natenuação da desaceleração da atividade antecipad a em função do aumento da renda \\ndas famílias, como reflexo da elevação do salário -mínimo , de benefícios sociais  e do \\nmercado de trabalho mais resiliente. Mencionou -se que alguns  indicadores de alta \\nfrequência permitiriam uma leitura que corrobora ria esse argumento . Todos os \\nmembros do Comitê , no entanto,  concordaram que o  cenário -base do C omitê segue \\nsendo de desaceleração gradual do crescimento econômico, com resiliência no \\nconsumo das famílias e menor dinamismo na formação bruta de capital fixo . Em  suma , \\nos dados de atividade divulgados  desde a última reunião corroboram o cenário \\ndelineado pelo  Copom e não houve alteração substancial sobre o cenário de \\ncrescimento . \\n8. O Comitê reforçou a visão de que o esmorecimento no esforço de reformas \\nestruturais e disciplina fiscal , o aumento de crédito direcionado e as incertezas sobre a \\nestabilização da dívida pública têm o potencial de elevar a taxa de juros neutra da \\neconomia, com impactos deletérios sobre a potência da política monetária e, \\nconsequentemente, sobre o custo de desinflação em termos de atividade.  \\n9. O Comitê  notou que o  mercado de trabalho segue  dinâmico , mas  manteve a avali ação \\nde que a ampliação de ganhos reais  pode ainda refletir questões temporárias. O Comitê  \\nressalta  que é importante seguir monitora ndo  com bastante atenção as diferentes \\nvariáveis do mercado de trabalho , em particular com um acompanhamento minucioso \\nda dinâmica d os rendimentos reais , que apresent aram  maior crescimento nos últimos \\nmeses . O Comitê também discutiu, em maior profundidade, a relação entre o mercado \\nde trabalho  e os preços na economia. Destacou -se a causalidade recíproca entre os \\npreços e a dinâmica de rendimentos, suas respectivas defasagens e as elasticidades  de \\nimpacto de um sobre outro. O Comitê seguirá atento à dinâmica d os rendimentos \\nnas diversas pesquisas para melhor avaliar o  grau de  ociosidade no mercado de trabalho  \\ne seus potenciais impactos sobre a inflação de serviços.  \\n10. Em que pesem as condições monetárias restritivas, enfatizou -se que já se observa a \\ntransmissão do ciclo de afrouxamento monetário para o mercado de crédito. \\nObservam- se sinais de maior concessão de crédito em algumas  linhas e redução das \\ntaxas de juros correntes de novas concessões, auxiliado s também por  incipiente \\naumento do apetite na oferta de crédito em certas linhas por parte das instituições \\nfinanceiras. Nota- se também um maior dinamismo no mercado de capitais desde a \\núltima reunião.  \\n11. Com relação ao cenário fiscal, t endo em conta a importância da execução das metas \\nfiscais já estabelecidas para a ancoragem das expectativas de inflação e, \\nconsequentemente, para a condução da política monetária, o Comitê reafirma  a \\nimportância da firme persecução dessas metas.  \\n12. O Comitê julgou que a dinâmica desinflacionária não divergiu significativamente do \\nque era esperado, na medida em que prossegue a evolução benigna do cenário corrente de inflação e esgotam -se algumas fontes que contribuíram para o primeiro estágio da \\ndesin flação. O Comitê notou, no entanto, que há alguns aspectos na dinâmica', metadata={'source': 'https://www.bcb.gov.br/content/copom/atascopom/Copom260-not20240131260.pdf', 'page': 3}),\n",
              " Document(page_content='desin flação. O Comitê notou, no entanto, que há alguns aspectos na dinâmica \\ninflacionária recente que requerem maior escrutínio. O Comitê debateu, em particular, \\na recente dinâmica da inflação de serviços, com foco nos seus componentes \\nsubjacentes, e os cenário s prospectivos. Alguns membros destacaram a importância de \\nse compreender as contribuições relativas, para a desinflação recente em serviços, do', metadata={'source': 'https://www.bcb.gov.br/content/copom/atascopom/Copom260-not20240131260.pdf', 'page': 3}),\n",
              " Document(page_content='260ª Reunião  \\nCOPOM  \\n30 e 31 de janeiro  \\n  \\n5    bcb.gov.br  aperto monetário vigente e de um potencial transbordamento das desinflações \\nverificadas em alimentos e bens industriais. A evolução prospectiva do hiato do produto \\ne o comportamento do mercado de trabalho foram considerados, novamente, muito \\nrelevantes para determinar a velocidade com que a inflação atingirá a meta. Notou- se \\nque um mercado de trabalho mais apertado, com reajustes salariais acima da meta de inflação, pode potencialmente retardar a convergência da inflação, impactando \\nnotadamente a inflação d e serviços e de setores mais intensivos em mão de obra. Em \\ncontraposição, uma  recomposição favorável de preços relativos , uma dinâmica benigna \\nde commodities ou uma menor inflação de serviços poderia m potencialmente contribuir \\npara um processo desinflacionário mais célere.  Em sua conclusão, o Comitê avalia que o \\ncenário prospectivo de inflação não se alterou. Por fim, o Comitê já incorpora nas suas \\nprojeções uma elevação de preços em função do fenômeno do El Niñ o e monitora os \\nimpactos da reversão do fenôme no. Ao fim, concluiu- se unanimemente pela \\nnecessidade de uma política monetária contracionista e cautelosa, de modo a reforçar a dinâmica desinflacionária.  \\n13. As expectativas de inflação seguem desancoradas e são um fator de preocupação. \\nO Comitê avalia que a redução das expectativas requer uma atuação firme da \\nautoridade monetária, bem como o contínuo fortalecimento da credibilidade e da \\nreputação tanto das ins tituições como dos arcabouços fiscal e monetário que compõem \\na política econômica brasileira.  \\n14. O Comitê ressalta que, em seus cenários para a inflação, permanecem fatores de \\nrisco em ambas as direções. Entre os riscos de alta para o cenário inflacionário e as \\nexpectativas de inflação, destacam -se (i) uma maior persistência das pressões \\ninflacionária s globais; e (ii) uma maior resiliência na inflação de serviços do que a \\nprojetada em função de um hiato do produto mais apertado. Entre os riscos de baixa, \\nressaltam -se (i) uma desaceleração da atividade econômica global mais acentuada do \\nque a projetada;  e (ii) os impactos do aperto monetário sincronizado sobre a desinflação \\nglobal se mostrarem mais fortes do que o esperado.  O Comitê avalia que a conjuntura, \\nem particular devido ao cenário internacional, segue  incerta e exige cautela na \\ncondução da política monetária.  \\n \\nC) Discussão sobre a condução da política monetária  \\n15. O Copom passou então à discussão da condução da política monetária, \\nconsiderando o conjunto de projeções analisado, assim como o balanço de riscos para a \\ninflação prospectiva.  \\n16. O Comitê avalia que houve um progresso desinflacionário relevante, em linha com \\no antecipado pelo Comitê, mas  ainda há um caminho longo a percorrer para a \\nancoragem das expectativas e o retorno da inflação à meta, o que exige  serenidade e \\nmoderação na condução da política monetária. Além disso, a incerteza, em particular no \\ncenário internacional , que tem se mostrado volátil , prescreve  cautela na condução da \\npolítica monetária.  O Comitê relembrou que a incorporação de cenários e variáveis \\nexógenas, como a dinâmica fiscal ou o cenário externo, se dá por meio  de seus impactos \\nna dinâmica prospectiva de inflação, sem relação mecânica com a determinação da taxa \\nde juros.  \\n17. O cenário doméstico vem se encaminhando em linha  com o que era esperado. \\nConcluiu- se que  prossegue a trajetória desinflacionária d os núcleos e da inflação de \\nserviços. Além disso, dados recentes sugerem moderação da atividade econômica , \\ncomo antecipad o pelo Comitê . A desancoragem das expectativas de inflação para \\nprazos mais longos se manteve desde a última reunião do Copom . Por fim, a s projeções \\nde inflação no horizonte relevante não se alteraram significativamente, mantendo -se \\nacima da meta.  \\n18. Após a análise do cenário , todos os membros concordaram que era apropriado', metadata={'source': 'https://www.bcb.gov.br/content/copom/atascopom/Copom260-not20240131260.pdf', 'page': 4}),\n",
              " Document(page_content='260ª Reunião  \\nCOPOM  \\n30 e 31 de janeiro  \\n  \\n6    bcb.gov.br  reduzir  a taxa Selic em 0,50 ponto percentual, de forma a ajustar o grau de aperto \\nmonetário prospectivo.  \\n19. O Comitê analisou vários cenários prospectivos, caracterizados por diferentes \\ntrajetórias nos ambientes doméstico e internacional. Debateu -se então a estratégia e a \\nextensão de ciclo apropriados em cada um des ses cenário s. O ptou -se por manter a \\ncomunicação recente , que já embute a condicionalidade apropriada em um ambiente \\nincerto , especificando o curso de ação caso se confirme o cenário esperado . Com \\nrelação aos próximos passos, o s membros do  Comitê concord aram  unanimemente com \\na expectativa de cortes de 0 ,50 ponto percentual  nas próximas reuniões e avalia ram  \\nque esse é o ritmo apropriado para manter a política monetária contracionista \\nnecessária para o processo desinflacionário.  Tal ritmo conjuga, de um lado, o firme \\ncompromisso com a reancoragem de expectativas e a dinâmica desinflacion ária e, de \\noutro, o ajuste no nível de aperto monetário em termos reais diante da dinâmica mais \\nbenigna da inflação  antecipada nas projeções do cenário de referência . \\n20. Por fim, o Comitê debateu  a extensão do ciclo de ajustes na  política monetária . O \\nComitê percebe a necessidade de se manter  uma política monetária ainda \\ncontracionista pelo horizonte relevante  para que se consolide a convergência da \\ninflação para a meta e  a ancoragem das expectativas . Enfatizou- se novamente que a \\nextensão do ciclo ao longo do tempo dependerá da evolução da dinâmica inflacionária, \\nem especial dos componentes mais sensíveis à política monetária e à atividade \\neconômica, das expectativas de inf lação, em particular as de maior prazo, de suas \\nprojeções de inflação, do hiato do produto e do balanço de riscos.  O Comitê mantém \\nseu firme compromisso com a convergência da inflação para a meta no horizonte \\nrelevante e reforça que a extensão do ciclo refletirá o mandato legal  do Banco Central.  \\n \\nD) Decisão de política monetária \\n21. Considerando a evolução do processo de desinflação, os cenários avaliados, o \\nbalanço de riscos e o amplo conjunto de informações disponíveis, o Copom decidiu reduzir a taxa básica de juros em 0,50 ponto percentual, para 11, 25% a.a., e entende \\nque essa decisão é compatível com a estratégia de convergência da inflação para o \\nredor da meta ao longo do horizonte relevante, que inclui o ano de 2024 e , em maior \\ngrau,  o de 2025. Sem prejuízo de seu objetivo fundamental de assegurar a estabilidade \\nde preços, essa decisão também implica suavização das flutuações do nível de atividade \\neconômica e fomento do pleno emprego. \\n22. A conjuntura atual, caracterizada por um estágio do processo desinflacionário que \\ntende a ser mais lento , expectativas de inflação com reancoragem apenas parcial  e um \\ncenário global desafiador , demanda serenidade e moderação na condução da política \\nmonetária. O Comitê reforça a necessidade de perseverar com uma política monetária \\ncontracionista até que se consolide não apenas o processo de desinflação como também a ancoragem das expectativas em torno de suas metas.  \\n23. Em se confirmando o cenário esperado, os membros do Comitê, unanimemente, \\nanteveem redução de mesma magnitude nas próximas reuniões e avaliam que esse é o \\nritmo apropriado para manter a política monetária contracionista necessária para o \\nprocesso desinflac ionário. O Comitê enfatiza que a magnitude total do ciclo de \\nflexibilização ao longo do tempo dependerá da evolução da dinâmica inflacionária, em especial dos componentes mais sensíveis à política monetária e à atividade econômica, \\ndas expectativas de infl ação, em particular daquel as de maior prazo, de suas projeções \\nde inflação, do hiato do produto e do balanço de riscos . \\n24. Votaram por uma redução de 0,50 ponto percentual os seguintes membros do', metadata={'source': 'https://www.bcb.gov.br/content/copom/atascopom/Copom260-not20240131260.pdf', 'page': 5}),\n",
              " Document(page_content='de inflação, do hiato do produto e do balanço de riscos . \\n24. Votaram por uma redução de 0,50 ponto percentual os seguintes membros do \\nComitê: Roberto de Oliveira Campos Neto (presidente), Ailton de Aquino Santos, Carolina de Assis Barros, Diogo Abry Guillen, Gabriel Muricca Galípolo , Otávio Ribeiro \\nDamaso, Paulo Picchetti , Renato Dias de Brito Gomes  e Rodrigo Alves Teixeira .', metadata={'source': 'https://www.bcb.gov.br/content/copom/atascopom/Copom260-not20240131260.pdf', 'page': 5})]"
            ]
          },
          "metadata": {},
          "execution_count": 2
        }
      ]
    },
    {
      "cell_type": "code",
      "source": [
        "# Definição do modelo LLM e Engenharia de prompt ----\n",
        "llm = ChatGoogleGenerativeAI(model=\"gemini-pro\", temperature=0)\n",
        "\n",
        "doc_prompt = PromptTemplate.from_template(\"{page_content}\") # extrai texto do PDF\n",
        "\n",
        "llm_prompt = PromptTemplate.from_template(\"\"\"\n",
        "Você é um economista chefe experiente em análise de política monetária, tendo\n",
        "trabalhado em fundos de investimentos e grandes bancos, além de ser PhD em\n",
        "economia.\n",
        "\n",
        "Sua tarefa é ler a ata a seguir da Reunião do Comitê de Política Monetária (Copom)\n",
        "do Banco Central do Brasil e classificar o documento em hawkish ou dovish:\n",
        "\n",
        "\"{ata}\"\n",
        "\n",
        "Classificação:\"\"\") # prompt para o Gemini\n",
        "\n",
        "# Combinar prompt, texto da ata e modelo\n",
        "classificador = (\n",
        "    {\"ata\": lambda ata: \"\\n\\n\".join(\n",
        "      format_document(pagina, doc_prompt) for pagina in ata\n",
        "      )}\n",
        "    | llm_prompt\n",
        "    | llm\n",
        "    | StrOutputParser()\n",
        ")"
      ],
      "metadata": {
        "id": "GAd7EnBzvrvY"
      },
      "execution_count": null,
      "outputs": []
    },
    {
      "cell_type": "code",
      "source": [
        "# Classificação do modelo LLM ----\n",
        "classificador.invoke(ata[2:8])"
      ],
      "metadata": {
        "colab": {
          "base_uri": "https://localhost:8080/",
          "height": 36
        },
        "id": "uU4EMLppw-2n",
        "outputId": "6c1717ba-36b4-4dea-de3a-d94e8aba17ec"
      },
      "execution_count": null,
      "outputs": [
        {
          "output_type": "execute_result",
          "data": {
            "text/plain": [
              "'Dovish'"
            ],
            "application/vnd.google.colaboratory.intrinsic+json": {
              "type": "string"
            }
          },
          "metadata": {},
          "execution_count": 6
        }
      ]
    }
  ]
}